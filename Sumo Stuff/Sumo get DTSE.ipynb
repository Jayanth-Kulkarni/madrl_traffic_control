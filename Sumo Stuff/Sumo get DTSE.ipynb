{
 "cells": [
  {
   "cell_type": "code",
   "execution_count": 1,
   "metadata": {
    "collapsed": true
   },
   "outputs": [],
   "source": [
    "import os, sys"
   ]
  },
  {
   "cell_type": "code",
   "execution_count": 2,
   "metadata": {},
   "outputs": [
    {
     "data": {
      "text/plain": [
       "True"
      ]
     },
     "execution_count": 2,
     "metadata": {},
     "output_type": "execute_result"
    }
   ],
   "source": [
    "'SUMO_HOME' in os.environ"
   ]
  },
  {
   "cell_type": "code",
   "execution_count": 3,
   "metadata": {
    "collapsed": true
   },
   "outputs": [],
   "source": [
    "tools = os.path.join(os.environ['SUMO_HOME'], 'tools')\n",
    "sys.path.append(tools)"
   ]
  },
  {
   "cell_type": "code",
   "execution_count": 4,
   "metadata": {
    "collapsed": true
   },
   "outputs": [],
   "source": [
    "sumoBinary = \"C:/Program Files (x86)/DLR/Sumo/bin/sumo-gui\"\n",
    "sumoCmd = [sumoBinary, \"-c\", \"C:/Users/sreeniva/Desktop/Reinforcement Learning/madrl_traffic_control/Sumo Stuff/hello.sumocfg\"]"
   ]
  },
  {
   "cell_type": "code",
   "execution_count": 5,
   "metadata": {
    "collapsed": true
   },
   "outputs": [],
   "source": [
    "import traci"
   ]
  },
  {
   "cell_type": "code",
   "execution_count": 6,
   "metadata": {},
   "outputs": [
    {
     "data": {
      "text/plain": [
       "(15, 'SUMO 0.30.0')"
      ]
     },
     "execution_count": 6,
     "metadata": {},
     "output_type": "execute_result"
    }
   ],
   "source": [
    "traci.start(sumoCmd)"
   ]
  },
  {
   "cell_type": "code",
   "execution_count": 7,
   "metadata": {
    "collapsed": true
   },
   "outputs": [],
   "source": [
    "step=0\n",
    "while step < 10:\n",
    "   traci.simulationStep()\n",
    "   step += 1"
   ]
  },
  {
   "cell_type": "code",
   "execution_count": 8,
   "metadata": {},
   "outputs": [
    {
     "data": {
      "text/plain": [
       "['2']"
      ]
     },
     "execution_count": 8,
     "metadata": {},
     "output_type": "execute_result"
    }
   ],
   "source": [
    "traci.trafficlights.getIDList()"
   ]
  },
  {
   "cell_type": "code",
   "execution_count": 1,
   "metadata": {
    "collapsed": true
   },
   "outputs": [],
   "source": [
    "import traci\n",
    "import math\n",
    "\n",
    "CAR_WIDTH = 5\n",
    "MAX_HEIGHT = 200 / CAR_WIDTH\n",
    "MAX_LENGTH = 200 / CAR_WIDTH\n",
    "lane_ids = [\"left-right-1_0\", \"left-right-2_0\",\n",
    "            \"right-left-1_0\", \"right-left-2_0\",\n",
    "            \"up-down-1_0\", \"up-down-2_0\",\n",
    "            \"down-up-1_0\", \"down-up-2_0\", ]\n",
    "\n",
    "\n",
    "def initialize_matrix():\n",
    "    vehicle_vel = 0  # default\n",
    "    vehicle_present = -1  # default\n",
    "    vehicle_id = -999\n",
    "    dtse_map = [[(vehicle_present, vehicle_vel, vehicle_id)\n",
    "                 for x in range(MAX_LENGTH)] for y in range(MAX_HEIGHT)]\n",
    "    return dtse_map\n",
    "\n",
    "\n",
    "def get_lane_dimensions():\n",
    "    # horizontal lane\n",
    "    lane_width = traci.lane.getShape(lane_ids[0])[0][\n",
    "        1] - traci.lane.getShape(lane_ids[3])[0][1]\n",
    "    horizontal_x_min = 0.0\n",
    "    horizontal_y_min = traci.lane.getShape(lane_ids[0])[0][1]\n",
    "    horizontal_x_max = 200.0\n",
    "    horizontal_y_max = horizontal_y_min + (2 * lane_width)\n",
    "\n",
    "    # vertical lane\n",
    "    vertical_x_min = traci.lane.getShape(lane_ids[4])[0][0]\n",
    "    vertical_y_min = 0.0\n",
    "    vertical_x_max = vertical_x_min + (2 * lane_width)\n",
    "    vertical_y_max = 200.0\n",
    "\n",
    "    return {'horizontal_x_min': horizontal_x_min / CAR_WIDTH,\n",
    "            'horizontal_x_max': horizontal_x_max / CAR_WIDTH,\n",
    "            'horizontal_y_min': horizontal_y_min / CAR_WIDTH,\n",
    "            'horizontal_y_max': horizontal_y_max / CAR_WIDTH,\n",
    "            'vertical_x_min': vertical_x_min / CAR_WIDTH,\n",
    "            'vertical_x_max': vertical_x_max / CAR_WIDTH,\n",
    "            'vertical_y_min': vertical_y_min / CAR_WIDTH,\n",
    "            'vertical_y_max': vertical_y_max / CAR_WIDTH}\n",
    "\n",
    "\n",
    "def print_matrix(matrix):\n",
    "    output_str = \"\"\n",
    "    for i in range(0, MAX_LENGTH):\n",
    "        for j in range(0, MAX_HEIGHT):\n",
    "            output_str += str(matrix[i][j]) + \"\\t\"\n",
    "        output_str += \"\\n\"\n",
    "    print output_str\n",
    "\n",
    "\n",
    "def adjust_matrix_for_lanes(matrix):\n",
    "    lane_dimensions = get_lane_dimensions()\n",
    "    for x in range(0, MAX_LENGTH):\n",
    "        for y in range(0, MAX_HEIGHT):\n",
    "            if x > lane_dimensions.get('vertical_x_min') and x < lane_dimensions.get('vertical_x_max')\\\n",
    "                    and y > lane_dimensions.get('vertical_y_min') and y < lane_dimensions.get('vertical_y_max'):\n",
    "                matrix[x][y][0] = 0\n",
    "            if x > lane_dimensions.get('horizontal_x_min') and x < lane_dimensions.get('horizontal_x_max')\\\n",
    "                    and y > lane_dimensions.get('horizontal_y_min') and y < lane_dimensions.get('horizontal_y_max'):\n",
    "                matrix[x][y][0] = 0\n",
    "\n",
    "    return matrix\n",
    "\n",
    "\n",
    "def get_left_right_dtse(x_min, x_max, y):\n",
    "    vehicle_vel = 0  # default\n",
    "    vehicle_present = -1  # default\n",
    "    vehicle_id = -999\n",
    "    n_blocks = int(math.ceil(abs(x_max - x_min) / CAR_WIDTH))\n",
    "    dtse_map = [[vehicle_present, vehicle_vel, vehicle_id] for x in range(n_blocks)]\n",
    "    vehicle_ids = traci.vehicle.getIDList()\n",
    "    for vehicle_id in vehicle_ids:\n",
    "        (x_pos, y_pos) = traci.vehicle.getPosition(vehicle_id)\n",
    "        vehicle_vel = traci.vehicle.getSpeed(vehicle_id)\n",
    "        if x_pos > x_min and x_pos < x_max and y_pos == y:\n",
    "            # make sure blocks are equally spaced starting from the junction\n",
    "            block = (n_blocks -1) - int((x_max - x_pos) / CAR_WIDTH)\n",
    "            # print x_pos, y_pos, block\n",
    "            dtse_map[block] = [1, vehicle_vel, vehicle_id]\n",
    "    return dtse_map\n",
    "\n",
    "def get_right_left_dtse(x_min, x_max, y):\n",
    "    vehicle_vel = 0  # default\n",
    "    vehicle_present = -1  # default\n",
    "    vehicle_id = -999\n",
    "    n_blocks = int(math.ceil(abs(x_max - x_min) / CAR_WIDTH))\n",
    "    dtse_map = [(vehicle_present, vehicle_vel, vehicle_id) for x in range(n_blocks)]\n",
    "    vehicle_ids = traci.vehicle.getIDList()\n",
    "    for vehicle_id in vehicle_ids:\n",
    "        (x_pos, y_pos) = traci.vehicle.getPosition(vehicle_id)\n",
    "        vehicle_vel = traci.vehicle.getSpeed(vehicle_id)\n",
    "        if x_pos > x_min and x_pos < x_max and y_pos == y:\n",
    "            block = int((x_pos - x_min) / CAR_WIDTH)\n",
    "            # print x_pos, y_pos, block\n",
    "            dtse_map[block] = [1, vehicle_vel, vehicle_id]\n",
    "    return dtse_map\n",
    "\n",
    "def get_up_down_dtse(y_min, y_max, x):\n",
    "    vehicle_vel = 0  # default\n",
    "    vehicle_present = -1  # default\n",
    "    vehicle_id = -999\n",
    "    n_blocks = int(math.ceil(abs(y_max - y_min) / CAR_WIDTH))\n",
    "    dtse_map = [(vehicle_present, vehicle_vel, vehicle_id) for y in range(n_blocks)]\n",
    "    vehicle_ids = traci.vehicle.getIDList()\n",
    "    for vehicle_id in vehicle_ids:\n",
    "        (x_pos, y_pos) = traci.vehicle.getPosition(vehicle_id)\n",
    "        vehicle_vel = traci.vehicle.getSpeed(vehicle_id)\n",
    "        if y_pos > y_min and y_pos < y_max and x_pos == x:\n",
    "            # make sure blocks are equally spaced starting from the junction\n",
    "            block = int((y_pos - y_min) / CAR_WIDTH)\n",
    "            # print x_pos, y_pos, block\n",
    "            dtse_map[block] = [1, vehicle_vel, vehicle_id]\n",
    "    return dtse_map\n",
    "\n",
    "def get_down_up_dtse(y_min, y_max, x):\n",
    "    vehicle_vel = 0  # default\n",
    "    vehicle_present = -1  # default\n",
    "    vehicle_id = -999\n",
    "    n_blocks = int(math.ceil(abs(y_max - y_min) / CAR_WIDTH))\n",
    "    dtse_map = [(vehicle_present, vehicle_vel, vehicle_id) for y in range(n_blocks)]\n",
    "    vehicle_ids = traci.vehicle.getIDList()\n",
    "    for vehicle_id in vehicle_ids:\n",
    "        (x_pos, y_pos) = traci.vehicle.getPosition(vehicle_id)\n",
    "        vehicle_vel = traci.vehicle.getSpeed(vehicle_id)\n",
    "        if y_pos > y_min and y_pos < y_max and x_pos == x:\n",
    "            # make sure blocks are equally spaced starting from the junction\n",
    "            block = int((y_max - y_pos) / CAR_WIDTH)\n",
    "            # print x_pos, y_pos, block\n",
    "            dtse_map[block] = [1, vehicle_vel, vehicle_id]\n",
    "    return dtse_map"
   ]
  },
  {
   "cell_type": "code",
   "execution_count": 10,
   "metadata": {},
   "outputs": [
    {
     "name": "stdout",
     "output_type": "stream",
     "text": [
      "left-right-1_0 [(0.0, 48.35), (45.25, 48.35)]\n",
      "left-right-2_0 [(54.75, 48.35), (100.0, 48.35)]\n",
      "right-left-1_0 [(100.0, 51.65), (54.75, 51.65)]\n",
      "right-left-2_0 [(45.25, 51.65), (0.0, 51.65)]\n",
      "up-down-1_0 [(48.35, 100.0), (48.35, 54.75)]\n",
      "up-down-2_0 [(48.35, 45.25), (48.35, 0.0)]\n",
      "down-up-1_0 [(51.65, 0.0), (51.65, 45.25)]\n",
      "down-up-2_0 [(51.65, 54.75), (51.65, 100.0)]\n"
     ]
    }
   ],
   "source": [
    "for lane in lane_ids:\n",
    "    print lane, traci.lane.getShape(lane)"
   ]
  },
  {
   "cell_type": "code",
   "execution_count": 11,
   "metadata": {
    "collapsed": true
   },
   "outputs": [],
   "source": [
    "# left-right-1\n",
    "[(x_min, y), (x_max, y1)] = traci.lane.getShape('left-right-1_0')\n",
    "lr_1_dtse = get_left_right_dtse(x_min, x_max, y)"
   ]
  },
  {
   "cell_type": "code",
   "execution_count": 12,
   "metadata": {},
   "outputs": [
    {
     "data": {
      "text/plain": [
       "[[-1, 0, -999],\n",
       " [-1, 0, -999],\n",
       " [-1, 0, -999],\n",
       " [-1, 0, -999],\n",
       " [-1, 0, -999],\n",
       " [1, 4.0, 'type1.0'],\n",
       " [-1, 0, -999],\n",
       " [-1, 0, -999],\n",
       " [-1, 0, -999],\n",
       " [-1, 0, -999]]"
      ]
     },
     "execution_count": 12,
     "metadata": {},
     "output_type": "execute_result"
    }
   ],
   "source": [
    "lr_1_dtse"
   ]
  },
  {
   "cell_type": "code",
   "execution_count": null,
   "metadata": {
    "collapsed": true
   },
   "outputs": [],
   "source": [
    "x_min"
   ]
  },
  {
   "cell_type": "code",
   "execution_count": null,
   "metadata": {
    "collapsed": true
   },
   "outputs": [],
   "source": [
    "# right-left-1\n",
    "[(x_max, y), (x_min, y1)] = traci.lane.getShape('right-left-1_0')\n",
    "rl_1_dtse = get_left_right_dtse(x_min, x_max, y)\n",
    "rl_1_dtse"
   ]
  },
  {
   "cell_type": "code",
   "execution_count": null,
   "metadata": {
    "collapsed": true
   },
   "outputs": [],
   "source": [
    "# left-right-2\n",
    "[(x_min, y), (x_max, y1)] = traci.lane.getShape('left-right-2_0')\n",
    "lr_2_dtse = get_left_right_dtse(x_min, x_max, y)"
   ]
  },
  {
   "cell_type": "code",
   "execution_count": null,
   "metadata": {
    "collapsed": true
   },
   "outputs": [],
   "source": [
    "lr_2_dtse"
   ]
  },
  {
   "cell_type": "code",
   "execution_count": null,
   "metadata": {
    "collapsed": true
   },
   "outputs": [],
   "source": [
    "traci.lane.getShape('up-down-1_0')"
   ]
  },
  {
   "cell_type": "code",
   "execution_count": null,
   "metadata": {
    "collapsed": true
   },
   "outputs": [],
   "source": [
    "[(x, y_max), (x1, y_min)] = traci.lane.getShape('up-down-1_0')\n",
    "get_up_down_dtse(y_min, y_max, x)"
   ]
  },
  {
   "cell_type": "code",
   "execution_count": null,
   "metadata": {
    "collapsed": true
   },
   "outputs": [],
   "source": [
    "vehicle_ids = traci.vehicle.getIDList()"
   ]
  },
  {
   "cell_type": "code",
   "execution_count": null,
   "metadata": {
    "collapsed": true
   },
   "outputs": [],
   "source": [
    "# up-down-2\n",
    "[(x, y_max), (x1, y_min)] = traci.lane.getShape('up-down-2_0')\n",
    "ud_2_dtse = get_up_down_dtse(y_min, y_max, x)\n",
    "ud_2_dtse"
   ]
  },
  {
   "cell_type": "code",
   "execution_count": null,
   "metadata": {
    "collapsed": true
   },
   "outputs": [],
   "source": [
    "traci.lane.getShape('down-up-1_0')"
   ]
  },
  {
   "cell_type": "code",
   "execution_count": null,
   "metadata": {
    "collapsed": true
   },
   "outputs": [],
   "source": [
    "# down-up-1\n",
    "[(x, y_min), (x1, y_max)] = traci.lane.getShape('down-up-1_0')\n",
    "du_1_dtse = get_down_up_dtse(y_min, y_max, x)\n",
    "du_1_dtse"
   ]
  },
  {
   "cell_type": "code",
   "execution_count": null,
   "metadata": {
    "collapsed": true
   },
   "outputs": [],
   "source": [
    "from collections import defaultdict\n",
    "vehicle_wait_times = defaultdict(lambda: defaultdict(lambda: 0.0))\n",
    "min_speed = 0.1\n",
    "# call this at every step\n",
    "def get_avg_waiting_time():\n",
    "    avg_wait_time = 0.0\n",
    "    vehicle_ids = traci.vehicle.getIDList()\n",
    "    for vehicle_id in vehicle_ids:\n",
    "        if traci.vehicle.getSpeed(vehicle_id) < 0.1:\n",
    "            vehicle_wait_times[vehicle_id]['t_wait'] += 1\n",
    "        else:\n",
    "            vehicle_wait_times[vehicle_id]['t_move'] += 1\n",
    "\n",
    "        vehicle_wait_times[vehicle_id]['avg_wait_time'] =\\\n",
    "            vehicle_wait_times[vehicle_id]['t_wait'] / (vehicle_wait_times[vehicle_id]['t_wait'] + vehicle_wait_times[vehicle_id]['t_move'])\n",
    "\n",
    "        # makes sure we don't include avg wait time from vehicles no longer on the network\n",
    "        avg_wait_time +=  vehicle_wait_times[vehicle_id]['avg_wait_time']\n",
    "    avg_wait_time = avg_wait_time / len(vehicle_ids)\n",
    "\n",
    "    return avg_wait_time"
   ]
  },
  {
   "cell_type": "code",
   "execution_count": null,
   "metadata": {
    "collapsed": true
   },
   "outputs": [],
   "source": [
    "get_avg_waiting_time()"
   ]
  },
  {
   "cell_type": "code",
   "execution_count": null,
   "metadata": {
    "collapsed": true
   },
   "outputs": [],
   "source": [
    "vehicle_wait_times"
   ]
  },
  {
   "cell_type": "code",
   "execution_count": null,
   "metadata": {
    "collapsed": true
   },
   "outputs": [],
   "source": [
    "total_waiting_time = 0\n",
    "total_moving_time = 0\n",
    "def get_avg_waiting_time_v2():\n",
    "    global total_waiting_time, total_moving_time\n",
    "    vehicle_ids = traci.vehicle.getIDList()\n",
    "    for vehicle_id in vehicle_ids:\n",
    "        if traci.vehicle.getSpeed(vehicle_id) < 0.1:\n",
    "            total_waiting_time += 1\n",
    "        else:\n",
    "            total_moving_time += 1\n",
    "    \n",
    "    avg_wait_time = 1.0 * total_waiting_time / (total_waiting_time + total_moving_time)\n",
    "    return avg_wait_time"
   ]
  },
  {
   "cell_type": "code",
   "execution_count": null,
   "metadata": {
    "collapsed": true
   },
   "outputs": [],
   "source": [
    "get_avg_waiting_time_v2()"
   ]
  },
  {
   "cell_type": "code",
   "execution_count": 10,
   "metadata": {
    "collapsed": true
   },
   "outputs": [],
   "source": [
    "x = traci.trafficlights.getIDList()[0]"
   ]
  },
  {
   "cell_type": "code",
   "execution_count": 8,
   "metadata": {
    "collapsed": true
   },
   "outputs": [],
   "source": [
    "def run_sim(steps):\n",
    "    step = 0\n",
    "    while step < steps:\n",
    "       traci.simulationStep()\n",
    "       step += 1"
   ]
  },
  {
   "cell_type": "code",
   "execution_count": 13,
   "metadata": {},
   "outputs": [
    {
     "name": "stdout",
     "output_type": "stream",
     "text": [
      "\n"
     ]
    }
   ],
   "source": [
    "traci.trafficlights.getPhase(x)\n",
    "step = 0"
   ]
  },
  {
   "cell_type": "code",
   "execution_count": 14,
   "metadata": {},
   "outputs": [
    {
     "name": "stdout",
     "output_type": "stream",
     "text": [
      "0\n",
      "Change! at step 0\n",
      "0 --> 3\n",
      "Change! at step 5\n",
      "3 --> 4\n",
      "Change! at step 9\n",
      "4 --> 5\n",
      "Change! at step 13\n",
      "5 --> 6\n",
      "Change! at step 44\n",
      "6 --> 7\n",
      "Change! at step 48\n",
      "7 --> 8\n",
      "Change! at step 52\n",
      "8 --> 9\n"
     ]
    }
   ],
   "source": [
    "prev_phase = 0\n",
    "print prev_phase\n",
    "counter = 0\n",
    "\n",
    "while counter < 60:\n",
    "    traci.simulationStep()\n",
    "    if traci.trafficlights.getPhase(x) != prev_phase:\n",
    "        print \"Change! at step\", step\n",
    "        print \"{} --> {}\".format(prev_phase, traci.trafficlights.getPhase(x))\n",
    "        prev_phase = traci.trafficlights.getPhase(x)\n",
    "    step += 1\n",
    "    counter += 1"
   ]
  },
  {
   "cell_type": "code",
   "execution_count": 15,
   "metadata": {},
   "outputs": [
    {
     "name": "stdout",
     "output_type": "stream",
     "text": [
      "Change! at step 83\n",
      "9 --> 10\n",
      "Change! at step 87\n",
      "10 --> 11\n",
      "Change! at step 91\n",
      "11 --> 0\n"
     ]
    }
   ],
   "source": [
    "counter = 0\n",
    "while counter < 60:\n",
    "    traci.simulationStep()\n",
    "    if traci.trafficlights.getPhase(x) != prev_phase:\n",
    "        print \"Change! at step\", step\n",
    "        print \"{} --> {}\".format(prev_phase, traci.trafficlights.getPhase(x))\n",
    "        prev_phase = traci.trafficlights.getPhase(x)\n",
    "    step += 1\n",
    "    counter += 1"
   ]
  },
  {
   "cell_type": "code",
   "execution_count": null,
   "metadata": {
    "collapsed": true
   },
   "outputs": [],
   "source": [
    "counter = 0\n",
    "while counter < 60:\n",
    "    traci.simulationStep()\n",
    "    if traci.trafficlights.getPhase(x) != prev_phase:\n",
    "        print \"Change! at step\", step\n",
    "        print \"{} --> {}\".format(prev_phase, traci.trafficlights.getPhase(x))\n",
    "        prev_phase = traci.trafficlights.getPhase(x)\n",
    "    step += 1\n",
    "    counter += 1"
   ]
  },
  {
   "cell_type": "code",
   "execution_count": null,
   "metadata": {
    "collapsed": true
   },
   "outputs": [],
   "source": [
    "traci.trafficlights.getRedYellowGreenState(x)"
   ]
  },
  {
   "cell_type": "code",
   "execution_count": null,
   "metadata": {
    "collapsed": true
   },
   "outputs": [],
   "source": [
    "traci.trafficlights.getPhase(x)"
   ]
  },
  {
   "cell_type": "code",
   "execution_count": null,
   "metadata": {
    "collapsed": true
   },
   "outputs": [],
   "source": [
    "traci.trafficlights.setPhase(x, 2)"
   ]
  },
  {
   "cell_type": "code",
   "execution_count": 9,
   "metadata": {
    "collapsed": true
   },
   "outputs": [],
   "source": [
    "run_sim(1000)"
   ]
  },
  {
   "cell_type": "code",
   "execution_count": null,
   "metadata": {
    "collapsed": true
   },
   "outputs": [],
   "source": [
    "traci.trafficlights.setRedYellowGreenState(x, 'GGGGrrrrrrrrrrrr')"
   ]
  },
  {
   "cell_type": "code",
   "execution_count": null,
   "metadata": {
    "collapsed": true
   },
   "outputs": [],
   "source": [
    "traci.trafficlights.getPhaseDuration(x)"
   ]
  },
  {
   "cell_type": "code",
   "execution_count": null,
   "metadata": {
    "collapsed": true
   },
   "outputs": [],
   "source": [
    "traci.trafficlights.setPhaseDuration(x, 1.0)"
   ]
  },
  {
   "cell_type": "code",
   "execution_count": null,
   "metadata": {
    "collapsed": true
   },
   "outputs": [],
   "source": [
    "traci.trafficlights.getRedYellowGreenState(x)"
   ]
  },
  {
   "cell_type": "code",
   "execution_count": 11,
   "metadata": {},
   "outputs": [
    {
     "data": {
      "text/plain": [
       "3"
      ]
     },
     "execution_count": 11,
     "metadata": {},
     "output_type": "execute_result"
    }
   ],
   "source": [
    "traci.trafficlights.getPhase(x)"
   ]
  },
  {
   "cell_type": "code",
   "execution_count": 30,
   "metadata": {},
   "outputs": [
    {
     "name": "stdout",
     "output_type": "stream",
     "text": [
      "Change! at step 599\n",
      "9 --> 10\n",
      "Change! at step 603\n",
      "10 --> 11\n",
      "Change! at step 607\n",
      "11 --> 0\n",
      "Phase 0!\n"
     ]
    }
   ],
   "source": [
    "counter = 0\n",
    "while counter < 100:\n",
    "    traci.simulationStep()\n",
    "    if traci.trafficlights.getPhase(x) != prev_phase:\n",
    "        print \"Change! at step\", step\n",
    "        print \"{} --> {}\".format(prev_phase, traci.trafficlights.getPhase(x))\n",
    "        prev_phase = traci.trafficlights.getPhase(x)\n",
    "        if prev_phase == 0:\n",
    "            print \"Phase 0!\"\n",
    "            break\n",
    "    step += 1\n",
    "    counter += 1"
   ]
  },
  {
   "cell_type": "code",
   "execution_count": 31,
   "metadata": {},
   "outputs": [
    {
     "data": {
      "text/plain": [
       "0"
      ]
     },
     "execution_count": 31,
     "metadata": {},
     "output_type": "execute_result"
    }
   ],
   "source": [
    "traci.trafficlights.getPhase(x)"
   ]
  },
  {
   "cell_type": "code",
   "execution_count": 27,
   "metadata": {
    "collapsed": true
   },
   "outputs": [],
   "source": [
    "traci.trafficlights.setPhaseDuration(x, 100)"
   ]
  },
  {
   "cell_type": "code",
   "execution_count": 32,
   "metadata": {},
   "outputs": [
    {
     "data": {
      "text/plain": [
       "31000"
      ]
     },
     "execution_count": 32,
     "metadata": {},
     "output_type": "execute_result"
    }
   ],
   "source": [
    "traci.trafficlights.getPhaseDuration(x)"
   ]
  },
  {
   "cell_type": "code",
   "execution_count": 13,
   "metadata": {
    "collapsed": true
   },
   "outputs": [],
   "source": [
    "x = lr_1_dtse"
   ]
  },
  {
   "cell_type": "code",
   "execution_count": 16,
   "metadata": {
    "collapsed": true
   },
   "outputs": [],
   "source": [
    "max_vel = 0\n",
    "for (vehicle_present, vehicle_vel, vehicle_id) in x:\n",
    "    max_vel = max(max_vel, vehicle_vel)"
   ]
  },
  {
   "cell_type": "code",
   "execution_count": 17,
   "metadata": {},
   "outputs": [
    {
     "data": {
      "text/plain": [
       "4.0"
      ]
     },
     "execution_count": 17,
     "metadata": {},
     "output_type": "execute_result"
    }
   ],
   "source": [
    "max_vel"
   ]
  },
  {
   "cell_type": "code",
   "execution_count": 23,
   "metadata": {
    "collapsed": true
   },
   "outputs": [],
   "source": [
    "normalized_dtse = [[vehicle_present, (vehicle_vel/max_vel), vehicle_id] for (vehicle_present, vehicle_vel, vehicle_id) in x]"
   ]
  },
  {
   "cell_type": "code",
   "execution_count": 24,
   "metadata": {},
   "outputs": [
    {
     "data": {
      "text/plain": [
       "[[-1, 0.0, -999],\n",
       " [-1, 0.0, -999],\n",
       " [-1, 0.0, -999],\n",
       " [-1, 0.0, -999],\n",
       " [-1, 0.0, -999],\n",
       " [1, 1.0, 'type1.0'],\n",
       " [-1, 0.0, -999],\n",
       " [-1, 0.0, -999],\n",
       " [-1, 0.0, -999],\n",
       " [-1, 0.0, -999]]"
      ]
     },
     "execution_count": 24,
     "metadata": {},
     "output_type": "execute_result"
    }
   ],
   "source": [
    "normalized_dtse"
   ]
  },
  {
   "cell_type": "code",
   "execution_count": 27,
   "metadata": {
    "collapsed": true
   },
   "outputs": [],
   "source": [
    "def fun(x):\n",
    "    x = x + 1\n",
    "    return x"
   ]
  },
  {
   "cell_type": "code",
   "execution_count": 28,
   "metadata": {},
   "outputs": [
    {
     "name": "stdout",
     "output_type": "stream",
     "text": [
      "6\n",
      "6\n",
      "6\n",
      "6\n",
      "6\n"
     ]
    }
   ],
   "source": [
    "a = 5\n",
    "for i in range(5):\n",
    "    print fun(a)"
   ]
  },
  {
   "cell_type": "code",
   "execution_count": null,
   "metadata": {
    "collapsed": true
   },
   "outputs": [],
   "source": []
  }
 ],
 "metadata": {
  "kernelspec": {
   "display_name": "Python 2",
   "language": "python",
   "name": "python2"
  },
  "language_info": {
   "codemirror_mode": {
    "name": "ipython",
    "version": 2
   },
   "file_extension": ".py",
   "mimetype": "text/x-python",
   "name": "python",
   "nbconvert_exporter": "python",
   "pygments_lexer": "ipython2",
   "version": "2.7.13"
  }
 },
 "nbformat": 4,
 "nbformat_minor": 2
}
