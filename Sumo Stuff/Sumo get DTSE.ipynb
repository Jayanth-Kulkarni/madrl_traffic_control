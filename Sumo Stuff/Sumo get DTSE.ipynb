{
 "cells": [
  {
   "cell_type": "code",
   "execution_count": 101,
   "metadata": {
    "collapsed": true
   },
   "outputs": [],
   "source": [
    "import os, sys"
   ]
  },
  {
   "cell_type": "code",
   "execution_count": 102,
   "metadata": {},
   "outputs": [
    {
     "data": {
      "text/plain": [
       "True"
      ]
     },
     "execution_count": 102,
     "metadata": {},
     "output_type": "execute_result"
    }
   ],
   "source": [
    "'SUMO_HOME' in os.environ"
   ]
  },
  {
   "cell_type": "code",
   "execution_count": 103,
   "metadata": {
    "collapsed": true
   },
   "outputs": [],
   "source": [
    "tools = os.path.join(os.environ['SUMO_HOME'], 'tools')\n",
    "sys.path.append(tools)"
   ]
  },
  {
   "cell_type": "code",
   "execution_count": 104,
   "metadata": {
    "collapsed": true
   },
   "outputs": [],
   "source": [
    "sumoBinary = \"C:/Program Files (x86)/DLR/Sumo/bin/sumo-gui\"\n",
    "sumoCmd = [sumoBinary, \"-c\", \"C:/Users/sreeniva/Desktop/Reinforcement Learning/madrl_traffic_control/Sumo Stuff/hello.sumocfg\"]"
   ]
  },
  {
   "cell_type": "code",
   "execution_count": 105,
   "metadata": {
    "collapsed": true
   },
   "outputs": [],
   "source": [
    "import traci"
   ]
  },
  {
   "cell_type": "code",
   "execution_count": 106,
   "metadata": {},
   "outputs": [
    {
     "data": {
      "text/plain": [
       "(15, 'SUMO 0.30.0')"
      ]
     },
     "execution_count": 106,
     "metadata": {},
     "output_type": "execute_result"
    }
   ],
   "source": [
    "traci.start(sumoCmd)"
   ]
  },
  {
   "cell_type": "code",
   "execution_count": 107,
   "metadata": {
    "collapsed": true
   },
   "outputs": [],
   "source": [
    "step=0\n",
    "while step < 10:\n",
    "   traci.simulationStep()\n",
    "   step += 1"
   ]
  },
  {
   "cell_type": "code",
   "execution_count": 88,
   "metadata": {},
   "outputs": [
    {
     "data": {
      "text/plain": [
       "['2']"
      ]
     },
     "execution_count": 88,
     "metadata": {},
     "output_type": "execute_result"
    }
   ],
   "source": [
    "traci.trafficlights.getIDList()"
   ]
  },
  {
   "cell_type": "code",
   "execution_count": 110,
   "metadata": {
    "collapsed": true
   },
   "outputs": [],
   "source": [
    "import traci\n",
    "import math\n",
    "\n",
    "CAR_WIDTH = 5\n",
    "MAX_HEIGHT = 200 / CAR_WIDTH\n",
    "MAX_LENGTH = 200 / CAR_WIDTH\n",
    "lane_ids = [\"left-right-1_0\", \"left-right-2_0\",\n",
    "            \"right-left-1_0\", \"right-left-2_0\",\n",
    "            \"up-down-1_0\", \"up-down-2_0\",\n",
    "            \"down-up-1_0\", \"down-up-2_0\", ]\n",
    "\n",
    "\n",
    "def initialize_matrix():\n",
    "    vehicle_vel = 0  # default\n",
    "    vehicle_present = -1  # default\n",
    "    vehicle_id = -999\n",
    "    dtse_map = [[(vehicle_present, vehicle_vel, vehicle_id)\n",
    "                 for x in range(MAX_LENGTH)] for y in range(MAX_HEIGHT)]\n",
    "    return dtse_map\n",
    "\n",
    "\n",
    "def get_lane_dimensions():\n",
    "    # horizontal lane\n",
    "    lane_width = traci.lane.getShape(lane_ids[0])[0][\n",
    "        1] - traci.lane.getShape(lane_ids[3])[0][1]\n",
    "    horizontal_x_min = 0.0\n",
    "    horizontal_y_min = traci.lane.getShape(lane_ids[0])[0][1]\n",
    "    horizontal_x_max = 200.0\n",
    "    horizontal_y_max = horizontal_y_min + (2 * lane_width)\n",
    "\n",
    "    # vertical lane\n",
    "    vertical_x_min = traci.lane.getShape(lane_ids[4])[0][0]\n",
    "    vertical_y_min = 0.0\n",
    "    vertical_x_max = vertical_x_min + (2 * lane_width)\n",
    "    vertical_y_max = 200.0\n",
    "\n",
    "    return {'horizontal_x_min': horizontal_x_min / CAR_WIDTH,\n",
    "            'horizontal_x_max': horizontal_x_max / CAR_WIDTH,\n",
    "            'horizontal_y_min': horizontal_y_min / CAR_WIDTH,\n",
    "            'horizontal_y_max': horizontal_y_max / CAR_WIDTH,\n",
    "            'vertical_x_min': vertical_x_min / CAR_WIDTH,\n",
    "            'vertical_x_max': vertical_x_max / CAR_WIDTH,\n",
    "            'vertical_y_min': vertical_y_min / CAR_WIDTH,\n",
    "            'vertical_y_max': vertical_y_max / CAR_WIDTH}\n",
    "\n",
    "\n",
    "def print_matrix(matrix):\n",
    "    output_str = \"\"\n",
    "    for i in range(0, MAX_LENGTH):\n",
    "        for j in range(0, MAX_HEIGHT):\n",
    "            output_str += str(matrix[i][j]) + \"\\t\"\n",
    "        output_str += \"\\n\"\n",
    "    print output_str\n",
    "\n",
    "\n",
    "def adjust_matrix_for_lanes(matrix):\n",
    "    lane_dimensions = get_lane_dimensions()\n",
    "    for x in range(0, MAX_LENGTH):\n",
    "        for y in range(0, MAX_HEIGHT):\n",
    "            if x > lane_dimensions.get('vertical_x_min') and x < lane_dimensions.get('vertical_x_max')\\\n",
    "                    and y > lane_dimensions.get('vertical_y_min') and y < lane_dimensions.get('vertical_y_max'):\n",
    "                matrix[x][y][0] = 0\n",
    "            if x > lane_dimensions.get('horizontal_x_min') and x < lane_dimensions.get('horizontal_x_max')\\\n",
    "                    and y > lane_dimensions.get('horizontal_y_min') and y < lane_dimensions.get('horizontal_y_max'):\n",
    "                matrix[x][y][0] = 0\n",
    "\n",
    "    return matrix\n",
    "\n",
    "\n",
    "def get_left_right_dtse(x_min, x_max, y):\n",
    "    vehicle_vel = 0  # default\n",
    "    vehicle_present = -1  # default\n",
    "    vehicle_id = -999\n",
    "    n_blocks = int(math.ceil(abs(x_max - x_min) / CAR_WIDTH))\n",
    "    dtse_map = [[vehicle_present, vehicle_vel, vehicle_id] for x in range(n_blocks)]\n",
    "    vehicle_ids = traci.vehicle.getIDList()\n",
    "    for vehicle_id in vehicle_ids:\n",
    "        (x_pos, y_pos) = traci.vehicle.getPosition(vehicle_id)\n",
    "        vehicle_vel = traci.vehicle.getSpeed(vehicle_id)\n",
    "        if x_pos > x_min and x_pos < x_max and y_pos == y:\n",
    "            # make sure blocks are equally spaced starting from the junction\n",
    "            block = (n_blocks -1) - int((x_max - x_pos) / CAR_WIDTH)\n",
    "            # print x_pos, y_pos, block\n",
    "            dtse_map[block] = [1, vehicle_vel, vehicle_id]\n",
    "    return dtse_map\n",
    "\n",
    "def get_right_left_dtse(x_min, x_max, y):\n",
    "    vehicle_vel = 0  # default\n",
    "    vehicle_present = -1  # default\n",
    "    vehicle_id = -999\n",
    "    n_blocks = int(math.ceil(abs(x_max - x_min) / CAR_WIDTH))\n",
    "    dtse_map = [(vehicle_present, vehicle_vel, vehicle_id) for x in range(n_blocks)]\n",
    "    vehicle_ids = traci.vehicle.getIDList()\n",
    "    for vehicle_id in vehicle_ids:\n",
    "        (x_pos, y_pos) = traci.vehicle.getPosition(vehicle_id)\n",
    "        vehicle_vel = traci.vehicle.getSpeed(vehicle_id)\n",
    "        if x_pos > x_min and x_pos < x_max and y_pos == y:\n",
    "            block = int((x_pos - x_min) / CAR_WIDTH)\n",
    "            # print x_pos, y_pos, block\n",
    "            dtse_map[block] = [1, vehicle_vel, vehicle_id]\n",
    "    return dtse_map\n",
    "\n",
    "def get_up_down_dtse(y_min, y_max, x):\n",
    "    vehicle_vel = 0  # default\n",
    "    vehicle_present = -1  # default\n",
    "    vehicle_id = -999\n",
    "    n_blocks = int(math.ceil(abs(y_max - y_min) / CAR_WIDTH))\n",
    "    dtse_map = [(vehicle_present, vehicle_vel, vehicle_id) for y in range(n_blocks)]\n",
    "    vehicle_ids = traci.vehicle.getIDList()\n",
    "    for vehicle_id in vehicle_ids:\n",
    "        (x_pos, y_pos) = traci.vehicle.getPosition(vehicle_id)\n",
    "        vehicle_vel = traci.vehicle.getSpeed(vehicle_id)\n",
    "        if y_pos > y_min and y_pos < y_max and x_pos == x:\n",
    "            # make sure blocks are equally spaced starting from the junction\n",
    "            block = int((y_pos - y_min) / CAR_WIDTH)\n",
    "            # print x_pos, y_pos, block\n",
    "            dtse_map[block] = [1, vehicle_vel, vehicle_id]\n",
    "    return dtse_map\n",
    "\n",
    "def get_down_up_dtse(y_min, y_max, x):\n",
    "    vehicle_vel = 0  # default\n",
    "    vehicle_present = -1  # default\n",
    "    vehicle_id = -999\n",
    "    n_blocks = int(math.ceil(abs(y_max - y_min) / CAR_WIDTH))\n",
    "    dtse_map = [(vehicle_present, vehicle_vel, vehicle_id) for y in range(n_blocks)]\n",
    "    vehicle_ids = traci.vehicle.getIDList()\n",
    "    for vehicle_id in vehicle_ids:\n",
    "        (x_pos, y_pos) = traci.vehicle.getPosition(vehicle_id)\n",
    "        vehicle_vel = traci.vehicle.getSpeed(vehicle_id)\n",
    "        if y_pos > y_min and y_pos < y_max and x_pos == x:\n",
    "            # make sure blocks are equally spaced starting from the junction\n",
    "            block = int((y_max - y_pos) / CAR_WIDTH)\n",
    "            # print x_pos, y_pos, block\n",
    "            dtse_map[block] = [1, vehicle_vel, vehicle_id]\n",
    "    return dtse_map"
   ]
  },
  {
   "cell_type": "code",
   "execution_count": 111,
   "metadata": {},
   "outputs": [
    {
     "name": "stdout",
     "output_type": "stream",
     "text": [
      "left-right-1_0 [(0.0, 48.35), (45.25, 48.35)]\n",
      "left-right-2_0 [(54.75, 48.35), (100.0, 48.35)]\n",
      "right-left-1_0 [(100.0, 51.65), (54.75, 51.65)]\n",
      "right-left-2_0 [(45.25, 51.65), (0.0, 51.65)]\n",
      "up-down-1_0 [(48.35, 100.0), (48.35, 54.75)]\n",
      "up-down-2_0 [(48.35, 45.25), (48.35, 0.0)]\n",
      "down-up-1_0 [(51.65, 0.0), (51.65, 45.25)]\n",
      "down-up-2_0 [(51.65, 54.75), (51.65, 100.0)]\n"
     ]
    }
   ],
   "source": [
    "for lane in lane_ids:\n",
    "    print lane, traci.lane.getShape(lane)"
   ]
  },
  {
   "cell_type": "code",
   "execution_count": 112,
   "metadata": {
    "collapsed": true
   },
   "outputs": [],
   "source": [
    "# left-right-1\n",
    "[(x_min, y), (x_max, y1)] = traci.lane.getShape('left-right-1_0')\n",
    "lr_1_dtse = get_left_right_dtse(x_min, x_max, y)"
   ]
  },
  {
   "cell_type": "code",
   "execution_count": 113,
   "metadata": {},
   "outputs": [
    {
     "data": {
      "text/plain": [
       "[[-1, 0, -999],\n",
       " [-1, 0, -999],\n",
       " [-1, 0, -999],\n",
       " [-1, 0, -999],\n",
       " [-1, 0, -999],\n",
       " [1, 4.0, 'type1.0'],\n",
       " [-1, 0, -999],\n",
       " [-1, 0, -999],\n",
       " [-1, 0, -999],\n",
       " [-1, 0, -999]]"
      ]
     },
     "execution_count": 113,
     "metadata": {},
     "output_type": "execute_result"
    }
   ],
   "source": [
    "lr_1_dtse"
   ]
  },
  {
   "cell_type": "code",
   "execution_count": 13,
   "metadata": {},
   "outputs": [
    {
     "data": {
      "text/plain": [
       "0.0"
      ]
     },
     "execution_count": 13,
     "metadata": {},
     "output_type": "execute_result"
    }
   ],
   "source": [
    "x_min"
   ]
  },
  {
   "cell_type": "code",
   "execution_count": 114,
   "metadata": {},
   "outputs": [
    {
     "data": {
      "text/plain": [
       "[[-1, 0, -999],\n",
       " [-1, 0, -999],\n",
       " [-1, 0, -999],\n",
       " [-1, 0, -999],\n",
       " [1, 4.5, 'type3.0'],\n",
       " [-1, 0, -999],\n",
       " [-1, 0, -999],\n",
       " [-1, 0, -999],\n",
       " [-1, 0, -999],\n",
       " [-1, 0, -999]]"
      ]
     },
     "execution_count": 114,
     "metadata": {},
     "output_type": "execute_result"
    }
   ],
   "source": [
    "# right-left-1\n",
    "[(x_max, y), (x_min, y1)] = traci.lane.getShape('right-left-1_0')\n",
    "rl_1_dtse = get_left_right_dtse(x_min, x_max, y)\n",
    "rl_1_dtse"
   ]
  },
  {
   "cell_type": "code",
   "execution_count": 115,
   "metadata": {
    "collapsed": true
   },
   "outputs": [],
   "source": [
    "# left-right-2\n",
    "[(x_min, y), (x_max, y1)] = traci.lane.getShape('left-right-2_0')\n",
    "lr_2_dtse = get_left_right_dtse(x_min, x_max, y)"
   ]
  },
  {
   "cell_type": "code",
   "execution_count": 116,
   "metadata": {},
   "outputs": [
    {
     "data": {
      "text/plain": [
       "[[-1, 0, -999],\n",
       " [-1, 0, -999],\n",
       " [-1, 0, -999],\n",
       " [-1, 0, -999],\n",
       " [-1, 0, -999],\n",
       " [-1, 0, -999],\n",
       " [-1, 0, -999],\n",
       " [-1, 0, -999],\n",
       " [-1, 0, -999],\n",
       " [-1, 0, -999]]"
      ]
     },
     "execution_count": 116,
     "metadata": {},
     "output_type": "execute_result"
    }
   ],
   "source": [
    "lr_2_dtse"
   ]
  },
  {
   "cell_type": "code",
   "execution_count": 17,
   "metadata": {},
   "outputs": [
    {
     "data": {
      "text/plain": [
       "[(48.35, 100.0), (48.35, 54.75)]"
      ]
     },
     "execution_count": 17,
     "metadata": {},
     "output_type": "execute_result"
    }
   ],
   "source": [
    "traci.lane.getShape('up-down-1_0')"
   ]
  },
  {
   "cell_type": "code",
   "execution_count": 97,
   "metadata": {},
   "outputs": [
    {
     "data": {
      "text/plain": [
       "[(-1, 0, -999),\n",
       " (-1, 0, -999),\n",
       " (-1, 0, -999),\n",
       " [1, 4.5, 'type2.16'],\n",
       " (-1, 0, -999),\n",
       " (-1, 0, -999),\n",
       " (-1, 0, -999),\n",
       " [1, 0.5, 'type2.17'],\n",
       " (-1, 0, -999),\n",
       " (-1, 0, -999)]"
      ]
     },
     "execution_count": 97,
     "metadata": {},
     "output_type": "execute_result"
    }
   ],
   "source": [
    "[(x, y_max), (x1, y_min)] = traci.lane.getShape('up-down-1_0')\n",
    "get_up_down_dtse(y_min, y_max, x)"
   ]
  },
  {
   "cell_type": "code",
   "execution_count": 19,
   "metadata": {
    "collapsed": true
   },
   "outputs": [],
   "source": [
    "vehicle_ids = traci.vehicle.getIDList()"
   ]
  },
  {
   "cell_type": "code",
   "execution_count": 21,
   "metadata": {},
   "outputs": [
    {
     "data": {
      "text/plain": [
       "[(-1, 0, -999),\n",
       " [1, 4.499999999999997, 'type2.2'],\n",
       " (-1, 0, -999),\n",
       " (-1, 0, -999),\n",
       " [1, 5.0, 'type2.1'],\n",
       " (-1, 0, -999),\n",
       " (-1, 0, -999),\n",
       " (-1, 0, -999),\n",
       " (-1, 0, -999),\n",
       " (-1, 0, -999)]"
      ]
     },
     "execution_count": 21,
     "metadata": {},
     "output_type": "execute_result"
    }
   ],
   "source": [
    "# up-down-2\n",
    "[(x, y_max), (x1, y_min)] = traci.lane.getShape('up-down-2_0')\n",
    "ud_2_dtse = get_up_down_dtse(y_min, y_max, x)\n",
    "ud_2_dtse"
   ]
  },
  {
   "cell_type": "code",
   "execution_count": 22,
   "metadata": {},
   "outputs": [
    {
     "data": {
      "text/plain": [
       "[(51.65, 0.0), (51.65, 45.25)]"
      ]
     },
     "execution_count": 22,
     "metadata": {},
     "output_type": "execute_result"
    }
   ],
   "source": [
    "traci.lane.getShape('down-up-1_0')"
   ]
  },
  {
   "cell_type": "code",
   "execution_count": 83,
   "metadata": {},
   "outputs": [
    {
     "data": {
      "text/plain": [
       "[(-1, 0, -999),\n",
       " (-1, 0, -999),\n",
       " (-1, 0, -999),\n",
       " (-1, 0, -999),\n",
       " (-1, 0, -999),\n",
       " (-1, 0, -999),\n",
       " (-1, 0, -999),\n",
       " [1, 0.5, 'type4.5'],\n",
       " (-1, 0, -999),\n",
       " (-1, 0, -999)]"
      ]
     },
     "execution_count": 83,
     "metadata": {},
     "output_type": "execute_result"
    }
   ],
   "source": [
    "# down-up-1\n",
    "[(x, y_min), (x1, y_max)] = traci.lane.getShape('down-up-1_0')\n",
    "du_1_dtse = get_down_up_dtse(y_min, y_max, x)\n",
    "du_1_dtse"
   ]
  },
  {
   "cell_type": "code",
   "execution_count": 26,
   "metadata": {},
   "outputs": [],
   "source": [
    "from collections import defaultdict\n",
    "vehicle_wait_times = defaultdict(lambda: defaultdict(lambda: 0.0))\n",
    "min_speed = 0.1\n",
    "# call this at every step\n",
    "def get_avg_waiting_time():\n",
    "    avg_wait_time = 0.0\n",
    "    vehicle_ids = traci.vehicle.getIDList()\n",
    "    for vehicle_id in vehicle_ids:\n",
    "        if traci.vehicle.getSpeed(vehicle_id) < 0.1:\n",
    "            vehicle_wait_times[vehicle_id]['t_wait'] += 1\n",
    "        else:\n",
    "            vehicle_wait_times[vehicle_id]['t_move'] += 1\n",
    "\n",
    "        vehicle_wait_times[vehicle_id]['avg_wait_time'] =\\\n",
    "            vehicle_wait_times[vehicle_id]['t_wait'] / (vehicle_wait_times[vehicle_id]['t_wait'] + vehicle_wait_times[vehicle_id]['t_move'])\n",
    "\n",
    "        # makes sure we don't include avg wait time from vehicles no longer on the network\n",
    "        avg_wait_time +=  vehicle_wait_times[vehicle_id]['avg_wait_time']\n",
    "    avg_wait_time = avg_wait_time / len(vehicle_ids)\n",
    "\n",
    "    return avg_wait_time"
   ]
  },
  {
   "cell_type": "code",
   "execution_count": 28,
   "metadata": {},
   "outputs": [
    {
     "data": {
      "text/plain": [
       "0.4117647058823529"
      ]
     },
     "execution_count": 28,
     "metadata": {},
     "output_type": "execute_result"
    }
   ],
   "source": [
    "get_avg_waiting_time()"
   ]
  },
  {
   "cell_type": "code",
   "execution_count": 29,
   "metadata": {},
   "outputs": [
    {
     "data": {
      "text/plain": [
       "defaultdict(<function __main__.<lambda>>,\n",
       "            {'type1.8': defaultdict(<function __main__.<lambda>>,\n",
       "                         {'avg_wait_time': 0.0, 't_move': 1.0, 't_wait': 0.0}),\n",
       "             'type2.1': defaultdict(<function __main__.<lambda>>,\n",
       "                         {'avg_wait_time': 0.0, 't_move': 1.0, 't_wait': 0.0}),\n",
       "             'type2.2': defaultdict(<function __main__.<lambda>>,\n",
       "                         {'avg_wait_time': 0.0, 't_move': 1.0, 't_wait': 0.0}),\n",
       "             'type2.3': defaultdict(<function __main__.<lambda>>,\n",
       "                         {'avg_wait_time': 0.0, 't_move': 1.0, 't_wait': 0.0}),\n",
       "             'type2.4': defaultdict(<function __main__.<lambda>>,\n",
       "                         {'avg_wait_time': 0.0, 't_move': 1.0, 't_wait': 0.0}),\n",
       "             'type2.5': defaultdict(<function __main__.<lambda>>,\n",
       "                         {'avg_wait_time': 0.0, 't_move': 1.0, 't_wait': 0.0}),\n",
       "             'type2.6': defaultdict(<function __main__.<lambda>>,\n",
       "                         {'avg_wait_time': 0.0, 't_move': 1.0, 't_wait': 0.0}),\n",
       "             'type2.7': defaultdict(<function __main__.<lambda>>,\n",
       "                         {'avg_wait_time': 1.0, 't_move': 0.0, 't_wait': 1.0}),\n",
       "             'type3.10': defaultdict(<function __main__.<lambda>>,\n",
       "                         {'avg_wait_time': 1.0, 't_move': 0.0, 't_wait': 1.0}),\n",
       "             'type3.11': defaultdict(<function __main__.<lambda>>,\n",
       "                         {'avg_wait_time': 1.0, 't_move': 0.0, 't_wait': 1.0}),\n",
       "             'type3.12': defaultdict(<function __main__.<lambda>>,\n",
       "                         {'avg_wait_time': 1.0, 't_move': 0.0, 't_wait': 1.0}),\n",
       "             'type3.7': defaultdict(<function __main__.<lambda>>,\n",
       "                         {'avg_wait_time': 1.0, 't_move': 0.0, 't_wait': 1.0}),\n",
       "             'type3.8': defaultdict(<function __main__.<lambda>>,\n",
       "                         {'avg_wait_time': 1.0, 't_move': 0.0, 't_wait': 1.0}),\n",
       "             'type3.9': defaultdict(<function __main__.<lambda>>,\n",
       "                         {'avg_wait_time': 1.0, 't_move': 0.0, 't_wait': 1.0}),\n",
       "             'type4.3': defaultdict(<function __main__.<lambda>>,\n",
       "                         {'avg_wait_time': 0.0, 't_move': 1.0, 't_wait': 0.0}),\n",
       "             'type4.4': defaultdict(<function __main__.<lambda>>,\n",
       "                         {'avg_wait_time': 0.0, 't_move': 1.0, 't_wait': 0.0}),\n",
       "             'type4.5': defaultdict(<function __main__.<lambda>>,\n",
       "                         {'avg_wait_time': 0.0,\n",
       "                          't_move': 1.0,\n",
       "                          't_wait': 0.0})})"
      ]
     },
     "execution_count": 29,
     "metadata": {},
     "output_type": "execute_result"
    }
   ],
   "source": [
    "vehicle_wait_times"
   ]
  },
  {
   "cell_type": "code",
   "execution_count": 79,
   "metadata": {
    "collapsed": true
   },
   "outputs": [],
   "source": [
    "total_waiting_time = 0\n",
    "total_moving_time = 0\n",
    "def get_avg_waiting_time_v2():\n",
    "    global total_waiting_time, total_moving_time\n",
    "    vehicle_ids = traci.vehicle.getIDList()\n",
    "    for vehicle_id in vehicle_ids:\n",
    "        if traci.vehicle.getSpeed(vehicle_id) < 0.1:\n",
    "            total_waiting_time += 1\n",
    "        else:\n",
    "            total_moving_time += 1\n",
    "    \n",
    "    avg_wait_time = 1.0 * total_waiting_time / (total_waiting_time + total_moving_time)\n",
    "    return avg_wait_time"
   ]
  },
  {
   "cell_type": "code",
   "execution_count": 80,
   "metadata": {},
   "outputs": [
    {
     "data": {
      "text/plain": [
       "0.4117647058823529"
      ]
     },
     "execution_count": 80,
     "metadata": {},
     "output_type": "execute_result"
    }
   ],
   "source": [
    "get_avg_waiting_time_v2()"
   ]
  },
  {
   "cell_type": "code",
   "execution_count": 108,
   "metadata": {},
   "outputs": [
    {
     "data": {
      "text/plain": [
       "['2']"
      ]
     },
     "execution_count": 108,
     "metadata": {},
     "output_type": "execute_result"
    }
   ],
   "source": [
    "traci.trafficlights.getIDList()"
   ]
  },
  {
   "cell_type": "code",
   "execution_count": 109,
   "metadata": {},
   "outputs": [
    {
     "data": {
      "text/plain": [
       "0"
      ]
     },
     "execution_count": 109,
     "metadata": {},
     "output_type": "execute_result"
    }
   ],
   "source": [
    "traci.trafficlights.getPhase('2')"
   ]
  },
  {
   "cell_type": "code",
   "execution_count": null,
   "metadata": {
    "collapsed": true
   },
   "outputs": [],
   "source": []
  }
 ],
 "metadata": {
  "kernelspec": {
   "display_name": "Python 2",
   "language": "python",
   "name": "python2"
  },
  "language_info": {
   "codemirror_mode": {
    "name": "ipython",
    "version": 2
   },
   "file_extension": ".py",
   "mimetype": "text/x-python",
   "name": "python",
   "nbconvert_exporter": "python",
   "pygments_lexer": "ipython2",
   "version": "2.7.13"
  }
 },
 "nbformat": 4,
 "nbformat_minor": 2
}
